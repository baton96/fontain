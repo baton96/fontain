{
 "cells": [
  {
   "cell_type": "code",
   "execution_count": null,
   "outputs": [],
   "source": [
    "import easyocr\n",
    "reader = easyocr.Reader(['en'])"
   ],
   "metadata": {
    "collapsed": false,
    "pycharm": {
     "name": "#%%\n"
    }
   }
  },
  {
   "cell_type": "code",
   "execution_count": null,
   "outputs": [],
   "source": [
    "file_name = 'text.png'\n",
    "results = reader.readtext(file_name)"
   ],
   "metadata": {
    "collapsed": false,
    "pycharm": {
     "name": "#%%\n"
    }
   }
  },
  {
   "cell_type": "code",
   "execution_count": null,
   "outputs": [],
   "source": [
    "for result in results:\n",
    "    print(result)"
   ],
   "metadata": {
    "collapsed": false,
    "pycharm": {
     "name": "#%%\n"
    }
   }
  },
  {
   "cell_type": "code",
   "execution_count": null,
   "outputs": [],
   "source": [
    "from matplotlib import pyplot as plt\n",
    "import numpy as np\n",
    "import cv2\n",
    "\n",
    "img = cv2.imread(file_name, cv2.IMREAD_GRAYSCALE)\n",
    "plt.imshow(img, cmap='gray')"
   ],
   "metadata": {
    "collapsed": false,
    "pycharm": {
     "name": "#%%\n"
    }
   }
  },
  {
   "cell_type": "code",
   "execution_count": null,
   "outputs": [],
   "source": [
    "for result in results:\n",
    "    coords, text, _ = result\n",
    "    word = img[coords[0][1]:coords[2][1], coords[0][0]:coords[2][0]]\n",
    "    _, word = cv2.threshold(word, 0, 255, cv2.THRESH_OTSU)\n",
    "    if word[0, 0]:\n",
    "        word = 255 - word\n",
    "\n",
    "    contours, _ = cv2.findContours(word, cv2.RETR_EXTERNAL, cv2.CHAIN_APPROX_NONE)\n",
    "    contours.sort(key=lambda c: cv2.boundingRect(c)[0])\n",
    "    for idx, contour in enumerate(contours):\n",
    "        if cv2.contourArea(contour) < 10:\n",
    "            continue\n",
    "        out = np.zeros_like(word)\n",
    "        mask = np.zeros_like(word)\n",
    "        x, y, w, h = cv2.boundingRect(contour)\n",
    "        cv2.drawContours(mask, contours, idx, 255, -1)\n",
    "        out[mask == 255] = word[mask == 255]\n",
    "        out = out[y:y + h, x:x + w]\n",
    "        plt.imshow(out, cmap='gray')\n",
    "        plt.show()"
   ],
   "metadata": {
    "collapsed": false,
    "pycharm": {
     "name": "#%%\n"
    }
   }
  }
 ],
 "metadata": {
  "kernelspec": {
   "display_name": "Python 3",
   "language": "python",
   "name": "python3"
  },
  "language_info": {
   "codemirror_mode": {
    "name": "ipython",
    "version": 2
   },
   "file_extension": ".py",
   "mimetype": "text/x-python",
   "name": "python",
   "nbconvert_exporter": "python",
   "pygments_lexer": "ipython2",
   "version": "2.7.6"
  }
 },
 "nbformat": 4,
 "nbformat_minor": 0
}