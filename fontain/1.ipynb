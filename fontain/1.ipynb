{
 "cells": [
  {
   "cell_type": "code",
   "execution_count": null,
   "outputs": [],
   "source": [
    "from PIL import ImageFont, Image, ImageDraw\n",
    "from matplotlib import pyplot as plt\n",
    "import matplotlib.font_manager\n",
    "import numpy as np\n",
    "import cv2"
   ],
   "metadata": {
    "collapsed": false,
    "pycharm": {
     "name": "#%%\n"
    }
   }
  },
  {
   "cell_type": "code",
   "execution_count": null,
   "outputs": [],
   "source": [
    "imgs = {}\n",
    "c = 'T'"
   ],
   "metadata": {
    "collapsed": false,
    "pycharm": {
     "name": "#%%\n"
    }
   }
  },
  {
   "cell_type": "code",
   "execution_count": null,
   "outputs": [],
   "source": [
    "def process_img(path):\n",
    "    try:\n",
    "        font = ImageFont.truetype(path, size=100)\n",
    "    except:\n",
    "        return\n",
    "    # font_name = path.split('/')[-1][:-4]\n",
    "    img = Image.new('L', font.getsize(c), 0)\n",
    "    draw = ImageDraw.Draw(img)\n",
    "    draw.text((0, 0), c, 255, font=font)\n",
    "    img = np.array(img)\n",
    "    _, img = cv2.threshold(img, 0, 255, cv2.THRESH_OTSU)\n",
    "\n",
    "    if img[0, 0]:\n",
    "        img = 255 - img\n",
    "\n",
    "    try:\n",
    "        from_row = next(i for i, row in enumerate(img) if row.any())\n",
    "        to_row = next(i for i, row in enumerate(reversed(img)) if row.any())\n",
    "        from_col = next(i for i, col in enumerate(img.T) if col.any())\n",
    "        to_col = next(i for i, col in enumerate(reversed(img.T)) if col.any())\n",
    "    except:\n",
    "        return\n",
    "    img = img[from_row:img.shape[0] - to_row, from_col:img.shape[1] - to_col]\n",
    "    img = np.array(Image.fromarray(img).resize((64, 64)))\n",
    "    plt.imshow(img, cmap='gray')\n",
    "    plt.show()\n",
    "\n",
    "    # imgs[font_name] = img"
   ],
   "metadata": {
    "collapsed": false,
    "pycharm": {
     "name": "#%%\n"
    }
   }
  },
  {
   "cell_type": "code",
   "execution_count": null,
   "outputs": [],
   "source": [
    "fonts = matplotlib.font_manager.findSystemFonts()\n",
    "fonts.sort()\n",
    "for font_path in sorted(fonts):\n",
    "    process_img(font_path)\n",
    "    break"
   ],
   "metadata": {
    "collapsed": false,
    "pycharm": {
     "name": "#%%\n"
    }
   }
  },
  {
   "cell_type": "code",
   "execution_count": null,
   "outputs": [],
   "source": [
    "winner = min(\n",
    "    imgs.items(),\n",
    "    key=lambda item: np.sum(np.abs(item[1]-sample))\n",
    ")\n",
    "winner"
   ],
   "metadata": {
    "collapsed": false,
    "pycharm": {
     "name": "#%%\n"
    }
   }
  },
  {
   "cell_type": "code",
   "execution_count": null,
   "outputs": [],
   "source": [
    "from matplotlib.pyplot import imshow\n",
    "%matplotlib inline\n",
    "imshow(winner[1], cmap='gray')"
   ],
   "metadata": {
    "collapsed": false,
    "pycharm": {
     "name": "#%%\n"
    }
   }
  },
  {
   "cell_type": "code",
   "execution_count": null,
   "outputs": [],
   "source": [
    "imshow(sample, cmap='gray')"
   ],
   "metadata": {
    "collapsed": false,
    "pycharm": {
     "name": "#%%\n"
    }
   }
  },
  {
   "cell_type": "code",
   "execution_count": null,
   "outputs": [],
   "source": [
    "#Image.fromarray(winner[1]).show()\n",
    "winner_img = Image.fromarray(winner[1])\n",
    "t_img = Image.fromarray(sample)"
   ],
   "metadata": {
    "collapsed": false,
    "pycharm": {
     "name": "#%%\n"
    }
   }
  }
 ],
 "metadata": {
  "kernelspec": {
   "display_name": "Python 3",
   "language": "python",
   "name": "python3"
  },
  "language_info": {
   "codemirror_mode": {
    "name": "ipython",
    "version": 2
   },
   "file_extension": ".py",
   "mimetype": "text/x-python",
   "name": "python",
   "nbconvert_exporter": "python",
   "pygments_lexer": "ipython2",
   "version": "2.7.6"
  }
 },
 "nbformat": 4,
 "nbformat_minor": 0
}